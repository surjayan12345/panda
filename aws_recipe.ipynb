{
 "cells": [
  {
   "cell_type": "code",
   "execution_count": 1,
   "metadata": {},
   "outputs": [
    {
     "name": "stdout",
     "output_type": "stream",
     "text": [
      "Requirement already satisfied: psycopg2 in c:\\users\\surjayan\\downloads\\anaconda\\lib\\site-packages (2.8.4)\n"
     ]
    }
   ],
   "source": [
    "!pip install psycopg2"
   ]
  },
  {
   "cell_type": "code",
   "execution_count": 2,
   "metadata": {},
   "outputs": [],
   "source": [
    "import psycopg2\n",
    "import pandas as pd\n",
    "import psycopg2.extras"
   ]
  },
  {
   "cell_type": "code",
   "execution_count": 3,
   "metadata": {},
   "outputs": [],
   "source": [
    "# Connection to aws database\n",
    "conn=psycopg2.connect(host=\"database-5.c98zqacq3vgm.us-east-2.rds.amazonaws.com\",port=5432, user=\"postgres\",password=\"postgres\",database=\"surjayan\")"
   ]
  },
  {
   "cell_type": "code",
   "execution_count": 4,
   "metadata": {},
   "outputs": [],
   "source": [
    "# Cursor is used to communicate with database\n",
    "mycursor=conn.cursor()\n",
    "\n",
    "# It will autocommit canges in database for the session\n",
    "conn.set_session(autocommit=True)\n",
    "\n",
    "query1=\"CREATE TABLE dish(dish_id INT PRIMARY KEY, cuisine_id INT NOT NULL)\"\n",
    "query2=\"CREATE TABLE cuisine(cuisine_id INT PRIMARY KEY, name VARCHAR NOT NULL)\"\n",
    "query3=\"CREATE TABLE recipe(recipe_id INT PRIMARY KEY,dish_id INT NOT NULL, ing_id INT NOT NULL)\"\n",
    "query4=\"CREATE TABLE ingredients(ing_id INT PRIMARY KEY, name VARCHAR NOT NULL)\"\n",
    "query=[query1,query2,query3,query4]"
   ]
  },
  {
   "cell_type": "code",
   "execution_count": 5,
   "metadata": {},
   "outputs": [],
   "source": [
    "data=pd.read_json('train.json')"
   ]
  },
  {
   "cell_type": "code",
   "execution_count": 6,
   "metadata": {},
   "outputs": [],
   "source": [
    "# For ingredients-- making a list of ingredients\n",
    "ing_list=[]\n",
    "for i in data['ingredients']:\n",
    "    for j in i:\n",
    "        ing_list.append(j)\n",
    "ing_list=list(set(ing_list))\n",
    "\n",
    "# For making a tuple-list of type of cuisine\n",
    "cuisine_list=[]\n",
    "for i in data['cuisine']:\n",
    "    cuisine_list.append(i)\n",
    "cuisine_list=list(set(cuisine_list))"
   ]
  },
  {
   "cell_type": "code",
   "execution_count": 7,
   "metadata": {},
   "outputs": [
    {
     "data": {
      "text/plain": [
       "['british', 'cajun_creole', 'russian', 'filipino', 'greek']"
      ]
     },
     "execution_count": 7,
     "metadata": {},
     "output_type": "execute_result"
    }
   ],
   "source": [
    "cuisine_list[0:5]"
   ]
  },
  {
   "cell_type": "code",
   "execution_count": 9,
   "metadata": {},
   "outputs": [],
   "source": [
    "for i in query:\n",
    "    mycursor.execute(i)"
   ]
  },
  {
   "cell_type": "code",
   "execution_count": 10,
   "metadata": {},
   "outputs": [],
   "source": [
    "\n",
    "# Inserting ingredients into the database table\n",
    "ing_listf=[]\n",
    "for i in ing_list:\n",
    "    ing_listf.append((ing_list.index(i)+1000,i))\n",
    "insert_query1 = 'INSERT INTO ingredients (ing_id,name) VALUES %s'\n",
    "psycopg2.extras.execute_values(mycursor, insert_query1, ing_listf, template=None, page_size=10000)"
   ]
  },
  {
   "cell_type": "code",
   "execution_count": 11,
   "metadata": {},
   "outputs": [],
   "source": [
    "# Inserting cuisine into the database table\n",
    "cuisine_listf=[]\n",
    "for i in cuisine_list:\n",
    "    cuisine_listf.append((cuisine_list.index(i)+10,i))\n",
    "insert_query2 = 'INSERT INTO cuisine (cuisine_id,name) VALUES %s'\n",
    "psycopg2.extras.execute_values(mycursor, insert_query2, cuisine_listf, template=None, page_size=10000)"
   ]
  },
  {
   "cell_type": "code",
   "execution_count": 12,
   "metadata": {},
   "outputs": [],
   "source": [
    "# Tuple list for table dish\n",
    "dish_listf=[]\n",
    "for (i,j) in zip(data[\"id\"],data['cuisine']):\n",
    "    dish_listf.append((i,cuisine_list.index(j)+10))\n",
    "insert_query3 = 'INSERT INTO dish (dish_id,cuisine_id) VALUES %s'\n",
    "psycopg2.extras.execute_values(mycursor, insert_query3, dish_listf, template=None, page_size=10000)"
   ]
  },
  {
   "cell_type": "code",
   "execution_count": 13,
   "metadata": {},
   "outputs": [],
   "source": [
    "# Tuple list for recipe table\n",
    "recipe_listf=[]\n",
    "recipe_id=110000\n",
    "for (i,j) in zip(data['id'],data['ingredients']):\n",
    "    for k in j:\n",
    "        recipe_listf.append((recipe_id,i,ing_list.index(k)))\n",
    "        recipe_id+=1"
   ]
  },
  {
   "cell_type": "code",
   "execution_count": 14,
   "metadata": {},
   "outputs": [
    {
     "data": {
      "text/plain": [
       "428275"
      ]
     },
     "execution_count": 14,
     "metadata": {},
     "output_type": "execute_result"
    }
   ],
   "source": [
    "\n",
    "len(recipe_listf)"
   ]
  },
  {
   "cell_type": "code",
   "execution_count": 15,
   "metadata": {},
   "outputs": [
    {
     "data": {
      "text/plain": [
       "[(110000, 10259, 5107),\n",
       " (110001, 10259, 1414),\n",
       " (110002, 10259, 2488),\n",
       " (110003, 10259, 1949),\n",
       " (110004, 10259, 4126)]"
      ]
     },
     "execution_count": 15,
     "metadata": {},
     "output_type": "execute_result"
    }
   ],
   "source": [
    "\n",
    "recipe_listf[0:5]"
   ]
  },
  {
   "cell_type": "code",
   "execution_count": 16,
   "metadata": {},
   "outputs": [
    {
     "ename": "SyntaxError",
     "evalue": "unexpected EOF while parsing (<ipython-input-16-3271d52b06bf>, line 3)",
     "output_type": "error",
     "traceback": [
      "\u001b[1;36m  File \u001b[1;32m\"<ipython-input-16-3271d52b06bf>\"\u001b[1;36m, line \u001b[1;32m3\u001b[0m\n\u001b[1;33m    psycopg2.extras.execute_values(mycursor, insert_query4, recipe_listf, template=None, page_size=10000\u001b[0m\n\u001b[1;37m                                                                                                        ^\u001b[0m\n\u001b[1;31mSyntaxError\u001b[0m\u001b[1;31m:\u001b[0m unexpected EOF while parsing\n"
     ]
    }
   ],
   "source": []
  },
  {
   "cell_type": "code",
   "execution_count": null,
   "metadata": {},
   "outputs": [],
   "source": []
  }
 ],
 "metadata": {
  "kernelspec": {
   "display_name": "Python 3",
   "language": "python",
   "name": "python3"
  },
  "language_info": {
   "codemirror_mode": {
    "name": "ipython",
    "version": 3
   },
   "file_extension": ".py",
   "mimetype": "text/x-python",
   "name": "python",
   "nbconvert_exporter": "python",
   "pygments_lexer": "ipython3",
   "version": "3.7.3"
  }
 },
 "nbformat": 4,
 "nbformat_minor": 2
}
